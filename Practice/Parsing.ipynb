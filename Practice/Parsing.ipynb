{
 "cells": [
  {
   "cell_type": "code",
   "execution_count": null,
   "id": "9cac83eb",
   "metadata": {
    "ExecuteTime": {
     "end_time": "2022-03-03T10:07:12.776115Z",
     "start_time": "2022-03-03T10:07:08.636806Z"
    }
   },
   "outputs": [],
   "source": [
    "import re\n",
    "import requests\n",
    "from tqdm import tqdm\n",
    "from bs4 import BeautifulSoup\n",
    "import spacy\n",
    "from random import randint\n",
    "from time import sleep"
   ]
  },
  {
   "cell_type": "code",
   "execution_count": null,
   "id": "c61cb3e8",
   "metadata": {
    "ExecuteTime": {
     "end_time": "2022-03-03T10:07:25.264503Z",
     "start_time": "2022-03-03T10:07:12.777088Z"
    }
   },
   "outputs": [],
   "source": [
    "!python -m spacy download ru_core_news_sm"
   ]
  },
  {
   "cell_type": "code",
   "execution_count": null,
   "id": "39c24cbb",
   "metadata": {
    "ExecuteTime": {
     "end_time": "2022-03-03T10:08:57.437441Z",
     "start_time": "2022-03-03T10:08:57.406710Z"
    }
   },
   "outputs": [],
   "source": [
    "class Parser:\n",
    "    \n",
    "    def __init__(self):\n",
    "        self.spacy_nlp = spacy.load('ru_core_news_sm')\n",
    "    \n",
    "    def has_endl(self, s):\n",
    "        return bool(re.search(r'\\n', s))\n",
    "    \n",
    "    def check_token(self, token):\n",
    "        return not token.is_stop and not token.is_punct and not token.like_num and \\\n",
    "               token.text not in ['\\xa0', '\\n', '\\t', '-'] and not self.has_endl(token.text)\n",
    "\n",
    "    def get_score(self, soup):\n",
    "        reviews = soup.findAll('span', class_='UserAvatar__number')\n",
    "        scores = [re.sub('\\D', '', reviews[i].text) for i in range(len(reviews))]\n",
    "        return list(map(int, scores))\n",
    "    \n",
    "    def get_mobile_data(self, mobile):\n",
    "        mobile_link = mobile.find('a').get('href')\n",
    "        name = mobile.findAll('a')[1].get('title')\n",
    "        mobile_url = mobile_link.split('?')\n",
    "        return name, mobile_url\n",
    "    \n",
    "    def get_mobiles(self):   \n",
    "        self.mobile_list = []  \n",
    "        \n",
    "        for i in tqdm(range(1, 17)):\n",
    "            \n",
    "            params = {'p': i}\n",
    "            url = \"https://www.citilink.ru/catalog/smartfony/\"\n",
    "            html = requests.get(url, params, headers={'User-Agent': 'BlackBerry9700/5.0.0.862 Profile/MIDP-2.1 Configuration/CLDC-1.1 VendorID/331 UNTRUSTED/1.0 3gpp-gba'}).text\n",
    "            if html:\n",
    "                soup = BeautifulSoup(html, 'html.parser')     \n",
    "                mobiles = soup.findAll(['div'], class_=['product_data__gtm-js product_data__pageevents-js ProductCardHorizontal js--ProductCardInListing js--ProductCardInWishlist'])\n",
    "                \n",
    "                for mobile in mobiles:\n",
    "                    name, mobile_url = self.get_mobile_data(mobile)\n",
    "                    if mobile_url[0] not in self.mobile_list:\n",
    "                        mobile_name = mobile_url[0].split('/')                    \n",
    "                        self.mobile_list.append({\n",
    "                            'url': mobile_url[0],\n",
    "                            'name': name,\n",
    "                            'id': mobile_name[2]\n",
    "                        }) \n",
    "                \n",
    "            sleep(randint(0, 1))\n",
    "            print(len(self.mobile_list))\n",
    "            \n",
    "    def get_reviews(self, start, end):\n",
    "        self.reviews_list = []  \n",
    "        for i in tqdm(range(start, end)):\n",
    "            url = 'https://www.citilink.ru' + self.mobile_list[i]['url'] + 'otzyvy/'\n",
    "            html = requests.get(url,  headers={'User-Agent': 'Mozilla/5.0'})\n",
    "            \n",
    "            if html.status_code == 200:\n",
    "                html = html.text\n",
    "                soup = BeautifulSoup(html, 'html.parser')\n",
    "                reviews = soup.findAll('div', class_='js--Opinion Opinion') + soup.findAll('div', class_='js--Opinion Opinion Opinion_best')\n",
    "                scores = self.get_score(soup)\n",
    "                \n",
    "                for i in range(len(reviews)):\n",
    "                    if (len(reviews[i].select('p')) != 3) or (scores[i] == 3):\n",
    "                        continue\n",
    "                    if scores[i] > 3:\n",
    "                        doc = reviews[i].select('p')[0].text\n",
    "                    if scores[i] < 3:\n",
    "                        doc = reviews[i].select('p')[1].text\n",
    "                    doc = self.spacy_nlp(doc)\n",
    "                    text = ' '.join([token.text.lower() for token in doc if self.check_token(token)])\n",
    "                    self.reviews_list.append({\n",
    "                                        'text': text,\n",
    "                                        'score': scores[i]\n",
    "                                    })\n",
    "                    \n",
    "                sleep(randint(0, 1))\n",
    "                \n",
    "        return self.reviews_list\n",
    "\n",
    "    "
   ]
  },
  {
   "cell_type": "code",
   "execution_count": null,
   "id": "40e5cace",
   "metadata": {
    "ExecuteTime": {
     "end_time": "2022-03-03T10:09:12.103834Z",
     "start_time": "2022-03-03T10:08:57.742445Z"
    }
   },
   "outputs": [],
   "source": [
    "all_data = []\n",
    "p = Parser()\n",
    "p.get_mobiles()\n",
    "step = 710 // 20\n",
    "for i in range(21):\n",
    "    all_data.append(p.get_reviews(i * step, (i + 1) * step))\n",
    "    print(f'i: {i}, len: {len(all_data[i])}')"
   ]
  },
  {
   "cell_type": "code",
   "execution_count": null,
   "id": "9769487a",
   "metadata": {
    "ExecuteTime": {
     "end_time": "2022-03-03T10:07:35.093757Z",
     "start_time": "2022-03-03T10:07:08.622Z"
    }
   },
   "outputs": [],
   "source": [
    "squeezed_data = []\n",
    "for batch in all_data:\n",
    "    for sample in batch:\n",
    "        squeezed_data.append(sample)\n",
    "df = pd.DataFrame.from_dict(squeezed_data)"
   ]
  },
  {
   "cell_type": "code",
   "execution_count": null,
   "id": "b9d15804",
   "metadata": {
    "ExecuteTime": {
     "end_time": "2022-03-03T10:07:35.095862Z",
     "start_time": "2022-03-03T10:07:08.622Z"
    }
   },
   "outputs": [],
   "source": [
    "df.to_csv('parsed_dataset', sep='\\t')"
   ]
  }
 ],
 "metadata": {
  "kernelspec": {
   "display_name": "Python 3",
   "language": "python",
   "name": "python3"
  },
  "language_info": {
   "codemirror_mode": {
    "name": "ipython",
    "version": 3
   },
   "file_extension": ".py",
   "mimetype": "text/x-python",
   "name": "python",
   "nbconvert_exporter": "python",
   "pygments_lexer": "ipython3",
   "version": "3.8.8"
  },
  "toc": {
   "base_numbering": 1,
   "nav_menu": {},
   "number_sections": true,
   "sideBar": true,
   "skip_h1_title": false,
   "title_cell": "Table of Contents",
   "title_sidebar": "Contents",
   "toc_cell": false,
   "toc_position": {},
   "toc_section_display": true,
   "toc_window_display": false
  },
  "varInspector": {
   "cols": {
    "lenName": 16,
    "lenType": 16,
    "lenVar": 40
   },
   "kernels_config": {
    "python": {
     "delete_cmd_postfix": "",
     "delete_cmd_prefix": "del ",
     "library": "var_list.py",
     "varRefreshCmd": "print(var_dic_list())"
    },
    "r": {
     "delete_cmd_postfix": ") ",
     "delete_cmd_prefix": "rm(",
     "library": "var_list.r",
     "varRefreshCmd": "cat(var_dic_list()) "
    }
   },
   "types_to_exclude": [
    "module",
    "function",
    "builtin_function_or_method",
    "instance",
    "_Feature"
   ],
   "window_display": false
  }
 },
 "nbformat": 4,
 "nbformat_minor": 5
}
