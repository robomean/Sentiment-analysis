{
 "cells": [
  {
   "cell_type": "code",
   "execution_count": 10,
   "id": "3047ffbd",
   "metadata": {
    "ExecuteTime": {
     "end_time": "2022-03-04T16:14:17.760339Z",
     "start_time": "2022-03-04T16:14:17.736013Z"
    }
   },
   "outputs": [],
   "source": [
    "import warnings\n",
    "warnings.filterwarnings(\"ignore\")\n",
    "\n",
    "import numpy as np\n",
    "import pandas as pd\n",
    "\n",
    "from sklearn.feature_extraction.text import CountVectorizer, TfidfVectorizer\n",
    "from sklearn.pipeline import Pipeline\n",
    "from sklearn.linear_model import LogisticRegression, SGDClassifier\n",
    "from sklearn.svm import LinearSVC\n",
    "from sklearn.model_selection import cross_val_score, GridSearchCV\n",
    "from sklearn.ensemble import RandomForestClassifier\n",
    "import xgboost as xgb\n",
    "\n",
    "import spacy\n",
    "import ru_core_news_lg\n",
    "\n",
    "from tqdm import tqdm\n",
    "tqdm.pandas()"
   ]
  },
  {
   "cell_type": "code",
   "execution_count": 12,
   "id": "27884691",
   "metadata": {
    "ExecuteTime": {
     "end_time": "2022-03-04T16:14:19.073579Z",
     "start_time": "2022-03-04T16:14:19.059696Z"
    }
   },
   "outputs": [],
   "source": [
    "class Scorer:\n",
    "    \n",
    "    def __init__(self):\n",
    "        self.pipe_count_bigrams = Pipeline([('vectorizer', CountVectorizer(ngram_range=(1,2))),\n",
    "                            ('lr', LogisticRegression())])\n",
    "        self.pipe_count_lr = Pipeline([('lr', LogisticRegression())])\n",
    "        self.pipe_svc = Pipeline([('svc', LinearSVC(penalty='l1', C=0.55, fit_intercept=False, dual=False, tol=1e-10, max_iter=100000))])\n",
    "        \n",
    "    def data_in_sentences(self, df, labels):\n",
    "        cross_score_bigrams = cross_val_score(\n",
    "            self.pipe_count_bigrams, df, labels, scoring='accuracy', cv=5, n_jobs=-1)\n",
    "        print('(Count Bigram + Unigram Vectorizer + LR) mean score: ', cross_score_bigrams.mean())"
   ]
  },
  {
   "cell_type": "code",
   "execution_count": 13,
   "id": "ab6708e5",
   "metadata": {
    "ExecuteTime": {
     "end_time": "2022-03-04T16:14:50.188090Z",
     "start_time": "2022-03-04T16:14:21.213817Z"
    }
   },
   "outputs": [
    {
     "name": "stdout",
     "output_type": "stream",
     "text": [
      "(Count Bigram + Unigram Vectorizer + LR) mean score:  0.9391333333333334\n"
     ]
    }
   ],
   "source": [
    "def binarize(x):\n",
    "    return 0 if x == 'negative' else 1\n",
    "\n",
    "train_df = pd.read_csv('clothing.csv', sep='\\t')\n",
    "drop_index = train_df[train_df['sentiment'] == 'neautral'].index\n",
    "train_df.drop(drop_index, inplace=True)\n",
    "train_df.reset_index(drop=True)\n",
    "# print(train_df)\n",
    "X_train, y_train = train_df['review'], train_df['sentiment']\n",
    "y_train = y_train.apply(binarize)\n",
    "scorer = Scorer()_\n",
    "scorer.data_in_sentences(X_train, y_train)  # without preprocessing"
   ]
  },
  {
   "cell_type": "code",
   "execution_count": null,
   "id": "52271f36",
   "metadata": {
    "ExecuteTime": {
     "end_time": "2022-03-04T16:48:44.031202Z",
     "start_time": "2022-03-04T16:20:51.164686Z"
    }
   },
   "outputs": [],
   "source": [
    "pipe_count_bigrams = Pipeline([('vectorizer', CountVectorizer(ngram_range=(1,2))),\n",
    "                            ('lr', LogisticRegression(n_jobs=-1))])\n",
    "parameters = {'vectorizer__min_df': [0, 0.05, 0.1, 0.2],\n",
    "              'vectorizer__max_df': [1, 0.95, 0.9],\n",
    "              'lr__penalty': ['l1', 'l2'],\n",
    "              'lr__C': [1, 0.9, 0.5, 0.05]\n",
    "              }\n",
    "grid = GridSearchCV(pipe_count_bigrams, parameters, cv=5, verbose=10)\n",
    "grid.fit(X_train, y_train)"
   ]
  },
  {
   "cell_type": "code",
   "execution_count": 26,
   "id": "453127fa",
   "metadata": {
    "ExecuteTime": {
     "end_time": "2022-03-04T16:52:03.657579Z",
     "start_time": "2022-03-04T16:51:45.605995Z"
    }
   },
   "outputs": [
    {
     "data": {
      "text/plain": [
       "0.9391333333333334"
      ]
     },
     "execution_count": 26,
     "metadata": {},
     "output_type": "execute_result"
    }
   ],
   "source": [
    "cross_val_score(\n",
    "            grid.best_estimator_, X_train, y_train, scoring='accuracy', cv=5, n_jobs=-1).mean()"
   ]
  },
  {
   "cell_type": "code",
   "execution_count": 31,
   "id": "f82621bc",
   "metadata": {
    "ExecuteTime": {
     "end_time": "2022-03-04T17:14:21.700737Z",
     "start_time": "2022-03-04T17:14:10.182813Z"
    }
   },
   "outputs": [],
   "source": [
    "import pickle\n",
    "\n",
    "best_pipe = grid.best_estimator_\n",
    "best_pipe.fit(X_train, y_train)\n",
    "\n",
    "with open(\"model.pkl\", \"wb\") as f:\n",
    "    pickle.dump(best_pipe, f)"
   ]
  }
 ],
 "metadata": {
  "kernelspec": {
   "display_name": "Python 3",
   "language": "python",
   "name": "python3"
  },
  "language_info": {
   "codemirror_mode": {
    "name": "ipython",
    "version": 3
   },
   "file_extension": ".py",
   "mimetype": "text/x-python",
   "name": "python",
   "nbconvert_exporter": "python",
   "pygments_lexer": "ipython3",
   "version": "3.8.8"
  },
  "toc": {
   "base_numbering": 1,
   "nav_menu": {},
   "number_sections": true,
   "sideBar": true,
   "skip_h1_title": false,
   "title_cell": "Table of Contents",
   "title_sidebar": "Contents",
   "toc_cell": false,
   "toc_position": {},
   "toc_section_display": true,
   "toc_window_display": false
  },
  "varInspector": {
   "cols": {
    "lenName": 16,
    "lenType": 16,
    "lenVar": 40
   },
   "kernels_config": {
    "python": {
     "delete_cmd_postfix": "",
     "delete_cmd_prefix": "del ",
     "library": "var_list.py",
     "varRefreshCmd": "print(var_dic_list())"
    },
    "r": {
     "delete_cmd_postfix": ") ",
     "delete_cmd_prefix": "rm(",
     "library": "var_list.r",
     "varRefreshCmd": "cat(var_dic_list()) "
    }
   },
   "types_to_exclude": [
    "module",
    "function",
    "builtin_function_or_method",
    "instance",
    "_Feature"
   ],
   "window_display": false
  }
 },
 "nbformat": 4,
 "nbformat_minor": 5
}
