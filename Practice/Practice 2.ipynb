{
 "cells": [
  {
   "cell_type": "code",
   "execution_count": 97,
   "metadata": {},
   "outputs": [
    {
     "name": "stderr",
     "output_type": "stream",
     "text": [
      "[nltk_data] Downloading package movie_reviews to\n",
      "[nltk_data]     C:\\Users\\Батыр\\AppData\\Roaming\\nltk_data...\n",
      "[nltk_data]   Package movie_reviews is already up-to-date!\n",
      "[nltk_data] Downloading package stopwords to\n",
      "[nltk_data]     C:\\Users\\Батыр\\AppData\\Roaming\\nltk_data...\n",
      "[nltk_data]   Package stopwords is already up-to-date!\n"
     ]
    },
    {
     "data": {
      "text/plain": [
       "True"
      ]
     },
     "execution_count": 97,
     "metadata": {},
     "output_type": "execute_result"
    }
   ],
   "source": [
    "import nltk\n",
    "nltk.download('movie_reviews')\n",
    "nltk.download('stopwords')"
   ]
  },
  {
   "cell_type": "code",
   "execution_count": 98,
   "metadata": {},
   "outputs": [],
   "source": [
    "import numpy as np\n",
    "from nltk.corpus import movie_reviews\n",
    "from sklearn.feature_extraction.text import CountVectorizer, TfidfVectorizer\n",
    "from sklearn.pipeline import Pipeline\n",
    "from sklearn.linear_model import LogisticRegression, SGDClassifier\n",
    "from sklearn.svm import LinearSVC\n",
    "from sklearn.model_selection import cross_val_score\n",
    "\n",
    "ans = []"
   ]
  },
  {
   "cell_type": "code",
   "execution_count": 99,
   "metadata": {},
   "outputs": [],
   "source": [
    "negids = movie_reviews.fileids('neg')\n",
    "posids = movie_reviews.fileids('pos')\n"
   ]
  },
  {
   "cell_type": "code",
   "execution_count": 100,
   "metadata": {},
   "outputs": [],
   "source": [
    "negfeats = [' '.join(movie_reviews.words(fileids=[f])) for f in negids]\n",
    "posfeats = [' '.join(movie_reviews.words(fileids=[f])) for f in posids]\n"
   ]
  },
  {
   "cell_type": "code",
   "execution_count": 101,
   "metadata": {},
   "outputs": [],
   "source": [
    "data = negfeats + posfeats\n",
    "labels = np.array([0] * len(negfeats) + [1] * len(posfeats))"
   ]
  },
  {
   "cell_type": "code",
   "execution_count": 102,
   "metadata": {},
   "outputs": [],
   "source": [
    "pipe_count = Pipeline([('vectorizer', CountVectorizer()), ('lr', LogisticRegression(max_iter=1000))])\n",
    "pipe_tfidf = Pipeline([('vectorizer', TfidfVectorizer()),\n",
    "                ('lr', LogisticRegression(max_iter=1000))])\n",
    "\n",
    "cross_score_count = cross_val_score(\n",
    "    pipe_count, data, labels, scoring='accuracy', n_jobs=-1, cv=5)\n",
    "cross_score_tfidf = cross_val_score(\n",
    "    pipe_tfidf, data, labels, scoring='accuracy', n_jobs=-1, cv=5)\n",
    "\n",
    "ans.append(' '.join(tuple(map(str, (cross_score_count.mean(), cross_score_count.std(),\n",
    "           cross_score_tfidf.mean(), cross_score_tfidf.std())))))\n"
   ]
  },
  {
   "cell_type": "code",
   "execution_count": 103,
   "metadata": {},
   "outputs": [],
   "source": [
    "pipe_count_10 = Pipeline([('vectorizer', CountVectorizer(min_df=10)),\n",
    "                      ('lr', LogisticRegression(max_iter=1000))])\n",
    "pipe_count_50 = Pipeline([('vectorizer', CountVectorizer(min_df=50)),\n",
    "                          ('lr', LogisticRegression(max_iter=1000))])\n",
    "\n",
    "cross_score_count_10 = cross_val_score(\n",
    "    pipe_count_10, data, labels, scoring='accuracy', n_jobs=-1, cv=5)\n",
    "cross_score_count_50 = cross_val_score(\n",
    "    pipe_count_50, data, labels, scoring='accuracy', n_jobs=-1, cv=5)\n",
    "\n",
    "ans.append(' '.join(tuple(map(str, (cross_score_count_10.mean(),\n",
    "           cross_score_count_50.mean())))))"
   ]
  },
  {
   "cell_type": "code",
   "execution_count": 104,
   "metadata": {},
   "outputs": [],
   "source": [
    "pipe_count_lr = Pipeline([('vectorizer', CountVectorizer(min_df=10)),\n",
    "                          ('lr', LogisticRegression(max_iter=1000))])\n",
    "pipe_count_svc = Pipeline([('vectorizer', CountVectorizer(min_df=50)),\n",
    "                          ('svc', LinearSVC(max_iter=1000))])\n",
    "pipe_count_sgd = Pipeline([('vectorizer', CountVectorizer(min_df=50)),\n",
    "                          ('sgd', SGDClassifier(max_iter=1000))])\n",
    "\n",
    "cross_score_count_lr = cross_val_score(\n",
    "    pipe_count_lr, data, labels, scoring='accuracy', n_jobs=-1, cv=5)\n",
    "cross_score_count_svc = cross_val_score(\n",
    "    pipe_count_svc, data, labels, scoring='accuracy', n_jobs=-1, cv=5)\n",
    "cross_score_count_sgd = cross_val_score(\n",
    "    pipe_count_sgd, data, labels, scoring='accuracy', n_jobs=-1, cv=5)\n",
    "\n",
    "ans.append(min(cross_score_count_lr.mean(),\n",
    "           cross_score_count_svc.mean(), cross_score_count_sgd.mean()))"
   ]
  },
  {
   "cell_type": "code",
   "execution_count": 105,
   "metadata": {},
   "outputs": [
    {
     "name": "stdout",
     "output_type": "stream",
     "text": [
      "['i', 'me', 'my', 'myself', 'we', 'our', 'ours', 'ourselves', 'you', \"you're\", 'shouldn', \"shouldn't\", 'wasn', \"wasn't\", 'weren', \"weren't\", 'won', \"won't\", 'wouldn']\n"
     ]
    }
   ],
   "source": [
    "stop_words = nltk.corpus.stopwords.words('english')\n",
    "print(stop_words[:10] + stop_words[-10:-1])\n"
   ]
  },
  {
   "cell_type": "code",
   "execution_count": 106,
   "metadata": {},
   "outputs": [],
   "source": [
    "pipe_count_nltk = Pipeline([('vectorizer', CountVectorizer(stop_words=stop_words, min_df=10)),\n",
    "                          ('lr', LogisticRegression(max_iter=1000))])\n",
    "pipe_count_sklearn = Pipeline([('vectorizer', CountVectorizer(stop_words='english', min_df=10)),\n",
    "                            ('lr', LogisticRegression(max_iter=1000))])\n",
    "\n",
    "cross_score_nltk = cross_val_score(\n",
    "    pipe_count_nltk, data, labels, scoring='accuracy', n_jobs=-1, cv=5)\n",
    "cross_score_sklearn = cross_val_score(\n",
    "    pipe_count_sklearn, data, labels, scoring='accuracy', n_jobs=-1, cv=5)\n",
    "\n",
    "ans.append(' '.join(tuple(map(str, (cross_score_nltk.mean(), cross_score_sklearn.mean())))))"
   ]
  },
  {
   "cell_type": "code",
   "execution_count": 107,
   "metadata": {},
   "outputs": [],
   "source": [
    "pipe_count_bigrams = Pipeline([('vectorizer', CountVectorizer(ngram_range=(1, 2), min_df=10)),\n",
    "                            ('lr', LogisticRegression(max_iter=1000))])\n",
    "pipe_count_chgrams = Pipeline([('vectorizer', CountVectorizer(ngram_range=(3, 5), min_df=10, analyzer='char_wb')),\n",
    "                               ('lr', LogisticRegression(max_iter=1000))])\n",
    "\n",
    "cross_score_bigrams = cross_val_score(\n",
    "    pipe_count_bigrams, data, labels, scoring='accuracy', n_jobs=-1, cv=5)\n",
    "cross_score_chgrams = cross_val_score(\n",
    "    pipe_count_chgrams, data, labels, scoring='accuracy', n_jobs=-1, cv=5)\n",
    "\n",
    "ans.append(' '.join(\n",
    "    tuple(map(str, (cross_score_bigrams.mean(), cross_score_chgrams.mean())))))\n"
   ]
  },
  {
   "cell_type": "code",
   "execution_count": 109,
   "metadata": {},
   "outputs": [],
   "source": [
    "for i in range(5):\n",
    "    with open('ans' + str(i) + '.txt', 'w') as f:\n",
    "        f.write(str(ans[i]))"
   ]
  }
 ],
 "metadata": {
  "interpreter": {
   "hash": "36d913a251a4f2cd1dd7ef17952d480b29bfc49e8364dec08afaa82ec7e2139a"
  },
  "kernelspec": {
   "display_name": "Python 3.8.8 ('base')",
   "language": "python",
   "name": "python3"
  },
  "language_info": {
   "codemirror_mode": {
    "name": "ipython",
    "version": 3
   },
   "file_extension": ".py",
   "mimetype": "text/x-python",
   "name": "python",
   "nbconvert_exporter": "python",
   "pygments_lexer": "ipython3",
   "version": "3.8.8"
  },
  "orig_nbformat": 4
 },
 "nbformat": 4,
 "nbformat_minor": 2
}
